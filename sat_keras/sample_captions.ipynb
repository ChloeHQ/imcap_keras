{
 "cells": [
  {
   "cell_type": "markdown",
   "metadata": {},
   "source": [
    "# Sample captions & visualize attention"
   ]
  },
  {
   "cell_type": "code",
   "execution_count": null,
   "metadata": {
    "collapsed": false
   },
   "outputs": [],
   "source": [
    "import sys; sys.argv=['']; del sys\n",
    "import numpy as np\n",
    "import os\n",
    "from args import get_parser\n",
    "from utils.dataloader import DataLoader\n",
    "from utils.config import get_opt\n",
    "from utils.lang_proc import idx2word, sample, beamsearch\n",
    "from model import get_model\n",
    "import pickle"
   ]
  },
  {
   "cell_type": "code",
   "execution_count": null,
   "metadata": {
    "collapsed": false
   },
   "outputs": [],
   "source": [
    "parser = get_parser()\n",
    "args_dict = parser.parse_args()\n",
    "args_dict.mode = 'test'\n",
    "args_dict.bs = 1"
   ]
  },
  {
   "cell_type": "markdown",
   "metadata": {},
   "source": [
    "Choose model weights to load:"
   ]
  },
  {
   "cell_type": "code",
   "execution_count": null,
   "metadata": {
    "collapsed": true
   },
   "outputs": [],
   "source": [
    "args_dict.model_file = '/work/asalvador/sat_keras/models/model_weights.07-3.16.h5'"
   ]
  },
  {
   "cell_type": "markdown",
   "metadata": {},
   "source": [
    "Initialize model and load weights:"
   ]
  },
  {
   "cell_type": "code",
   "execution_count": null,
   "metadata": {
    "collapsed": true
   },
   "outputs": [],
   "source": [
    "model = get_model(args_dict)\n",
    "opt = get_opt(args_dict)\n",
    "\n",
    "weights = args_dict.model_file\n",
    "model.load_weights(weights)\n",
    "\n",
    "model.compile(optimizer=opt,loss='categorical_crossentropy')"
   ]
  },
  {
   "cell_type": "code",
   "execution_count": null,
   "metadata": {
    "collapsed": false
   },
   "outputs": [],
   "source": [
    "model.summary()"
   ]
  },
  {
   "cell_type": "markdown",
   "metadata": {},
   "source": [
    "Create the extractor that outputs attention weights and class probabilities"
   ]
  },
  {
   "cell_type": "code",
   "execution_count": null,
   "metadata": {
    "collapsed": true
   },
   "outputs": [],
   "source": [
    "from keras.models import Model\n",
    "att_layer = 'timedistributed_7'\n",
    "extractor = Model(input=model.input,output=[model.output,model.get_layer(att_layer).output])"
   ]
  },
  {
   "cell_type": "markdown",
   "metadata": {},
   "source": [
    "Load the word vocabulary to map idxs to words:"
   ]
  },
  {
   "cell_type": "code",
   "execution_count": null,
   "metadata": {
    "collapsed": true
   },
   "outputs": [],
   "source": [
    "vocab_file = os.path.join(args_dict.data_folder,'data',args_dict.vfile)\n",
    "vocab = pickle.load(open(vocab_file,'rb'))\n",
    "inv_vocab = {v:k for k,v in vocab.items()}"
   ]
  },
  {
   "cell_type": "markdown",
   "metadata": {},
   "source": [
    "Initialize the generator to yield samples:"
   ]
  },
  {
   "cell_type": "code",
   "execution_count": null,
   "metadata": {
    "collapsed": true
   },
   "outputs": [],
   "source": [
    "dataloader = DataLoader(args_dict)\n",
    "N = args_dict.bs\n",
    "val_gen = dataloader.generator('val',batch_size=args_dict.bs,train_flag=False) # N samples"
   ]
  },
  {
   "cell_type": "code",
   "execution_count": null,
   "metadata": {
    "collapsed": false
   },
   "outputs": [],
   "source": [
    "from utils.im_proc import process_image, center_crop\n",
    "import matplotlib.pyplot as plt  \n",
    "%matplotlib inline\n",
    "import os\n",
    "from scipy.ndimage.interpolation import zoom\n",
    "from scipy.ndimage.filters import gaussian_filter\n",
    "import copy\n",
    "\n",
    "IMPATH = os.path.join(args_dict.coco_path,'images','val' + args_dict.year)\n",
    "\n",
    "count = 0\n",
    "sig = 5\n",
    "th = 0.3\n",
    "for im,cap,imids in val_gen:\n",
    "    \n",
    "    atts = np.zeros((args_dict.seqlen, args_dict.imsize,args_dict.imsize))\n",
    "    \n",
    "    prevs = np.ones((N,1))\n",
    "    word_idxs = np.zeros((N,args_dict.seqlen))\n",
    "    imname = imids[0]['file_name']\n",
    "    \n",
    "    img = process_image(os.path.join(IMPATH,imname),args_dict.resize)\n",
    "    img = center_crop(img,args_dict.imsize)\n",
    "\n",
    "    for i in range(args_dict.seqlen):\n",
    "        # get predictions\n",
    "        preds,att = extractor.predict([im,prevs]) #(N,1,vocab_size)\n",
    "        \n",
    "        s_att = np.shape(att)[-1]\n",
    "        s = int(np.sqrt(s_att))\n",
    "        att = np.reshape(att,(s,s))\n",
    "        att = zoom(att,float(img.shape[0])/att.shape[-1],order=1)\n",
    "        att = gaussian_filter(att,sigma=sig)\n",
    "        att[att>=th] = 1\n",
    "        att[att<th] = 0.5\n",
    "        atts[i] = att\n",
    "\n",
    "        preds = preds.squeeze()\n",
    "\n",
    "        word_idxs[:,i] = np.argmax(preds,axis=-1)\n",
    "        prevs = np.argmax(preds,axis=-1)\n",
    "        prevs = np.reshape(prevs,(N,1))\n",
    "\n",
    "    pred_caps = idx2word(word_idxs,inv_vocab)\n",
    "    true_caps = idx2word(np.argmax(cap,axis=-1),inv_vocab)\n",
    "    \n",
    "    n_words = len(pred_caps[0])\n",
    "    \n",
    "    f, axarr = plt.subplots(1,n_words,figsize=(30,30))\n",
    "    \n",
    "    for i in range(n_words):\n",
    "        im = copy.deepcopy(img)\n",
    "        for c in range(3):\n",
    "            im[:,:,c] = im[:,:,c]*atts[i]\n",
    "        axarr[i].imshow(im)\n",
    "        axarr[i].axis('off')\n",
    "        axarr[i].set_title(pred_caps[0][i])\n",
    "    \n",
    "    plt.show()\n",
    "    \n",
    "    pred_cap = ' '.join(pred_caps[0])\n",
    "    true_cap = ' '.join(true_caps[0])\n",
    "    \n",
    "    # true captions\n",
    "    print (\"ID:\", imids[0]['file_name'])\n",
    "    print (\"True:\", true_cap)\n",
    "    print (\"Gen:\", pred_cap)\n",
    "    print (\"-\"*10)\n",
    "\n",
    "    model.reset_states()\n",
    "    count+=1\n",
    "    if count > 10:\n",
    "        break"
   ]
  },
  {
   "cell_type": "code",
   "execution_count": null,
   "metadata": {
    "collapsed": true
   },
   "outputs": [],
   "source": []
  }
 ],
 "metadata": {
  "kernelspec": {
   "display_name": "Python 2",
   "language": "python",
   "name": "python2"
  },
  "language_info": {
   "codemirror_mode": {
    "name": "ipython",
    "version": 2
   },
   "file_extension": ".py",
   "mimetype": "text/x-python",
   "name": "python",
   "nbconvert_exporter": "python",
   "pygments_lexer": "ipython2",
   "version": "2.7.9"
  }
 },
 "nbformat": 4,
 "nbformat_minor": 2
}
